{
 "cells": [
  {
   "cell_type": "markdown",
   "metadata": {},
   "source": [
    "<div class=\"title\">Linear Models for Classification: Review</div>\n",
    "<div class=\"subtitle\">Machine Learning</div>\n",
    "<div class=\"author\">Carlos María Alaíz Gudín &mdash; Universidad Autónoma de Madrid</div>\n",
    "\n",
    "---"
   ]
  },
  {
   "cell_type": "markdown",
   "metadata": {},
   "source": [
    "**Configuration**"
   ]
  },
  {
   "cell_type": "markdown",
   "metadata": {},
   "source": [
    "This cell defines the general configuration of Jupyter Notebook."
   ]
  },
  {
   "cell_type": "code",
   "execution_count": 3,
   "metadata": {},
   "outputs": [
    {
     "data": {
      "text/html": [
       "<head><link rel=\"stylesheet\" href=\"style.css\"></head>\n"
      ],
      "text/plain": [
       "<IPython.core.display.HTML object>"
      ]
     },
     "metadata": {},
     "output_type": "display_data"
    }
   ],
   "source": [
    "%%html\n",
    "<head><link rel=\"stylesheet\" href=\"style.css\"></head>"
   ]
  },
  {
   "cell_type": "markdown",
   "metadata": {},
   "source": [
    "This cell imports the packages to be used."
   ]
  },
  {
   "cell_type": "code",
   "execution_count": 4,
   "metadata": {},
   "outputs": [],
   "source": [
    "# Standard packages.\n",
    "import matplotlib\n",
    "import numpy as np\n",
    "from sklearn.metrics import accuracy_score\n",
    "from sklearn.metrics import log_loss\n",
    "import sys\n",
    "\n",
    "# Initialisations.\n",
    "matplotlib.rc(\"figure\", figsize=(15, 5))\n",
    "sys.dont_write_bytecode = True"
   ]
  },
  {
   "cell_type": "markdown",
   "metadata": {},
   "source": [
    "# Review of Linear Models for Classification"
   ]
  },
  {
   "cell_type": "markdown",
   "metadata": {},
   "source": [
    "## Key Concepts"
   ]
  },
  {
   "cell_type": "markdown",
   "metadata": {},
   "source": [
    "* Linear Classification Model.\n",
    "\n",
    "\n",
    "* Accuracy.\n",
    "\n",
    "\n",
    "* Logistic Regression\n",
    "\n",
    "\n",
    "* Logistic Function.\n",
    "\n",
    "\n",
    "* Likelihood.\n",
    "\n",
    "\n",
    "* Cross-Entropy.\n",
    "\n",
    "\n",
    "* Gradient Descent."
   ]
  },
  {
   "cell_type": "markdown",
   "metadata": {},
   "source": [
    "## Additional Exercises"
   ]
  },
  {
   "cell_type": "markdown",
   "metadata": {},
   "source": [
    "### Binary Linear Classification: Output"
   ]
  },
  {
   "cell_type": "markdown",
   "metadata": {},
   "source": [
    "Given the 3-dimensional linear classification model with parameters $\\boldsymbol{\\theta} = \\{ b = 1, \\mathbf{w} = (1, 2, 3)^\\intercal \\}$.\n",
    "\n",
    "1. Compute the output of the model for $\\mathbf{x} = (3, 2, 1)^\\intercal$.\n",
    "2. Compute the output of the model for $\\mathbf{x} = (-1, 2, -2)^\\intercal$.\n",
    "3. Compute the output of the model for $\\mathbf{x} = (0, 0, 0)^\\intercal$."
   ]
  },
  {
   "cell_type": "code",
   "execution_count": 5,
   "metadata": {},
   "outputs": [
    {
     "name": "stdout",
     "output_type": "stream",
     "text": [
      "x =  [3 2 1] \n",
      "\t=> f(x) = 11 => C1\n",
      "\n",
      "x =  [-1  2 -2] \n",
      "\t=> f(x) = -2 => C0\n",
      "\n",
      "x =  [0 0 0] \n",
      "\t=> f(x) =  1 => C1\n",
      "\n"
     ]
    }
   ],
   "source": [
    "################################################################################\n",
    "# Insert code.\n",
    "b = 1\n",
    "w = np.array([1, 2, 3])\n",
    "\n",
    "for x in [np.array([3, 2, 1]), np.array([-1, 2, -2]), np.array([0, 0, 0])]:\n",
    "    f_x = w @ x + b\n",
    "    print(\n",
    "        \"x = \",\n",
    "        x,\n",
    "        \"\\n\\t=> f(x) = {:2g} => {:s}\\n\".format(f_x, \"C0\" if f_x < 0 else \"C1\"),\n",
    "    )\n",
    "################################################################################"
   ]
  },
  {
   "cell_type": "markdown",
   "metadata": {},
   "source": [
    "### Binary Linear Classification: Quality"
   ]
  },
  {
   "cell_type": "markdown",
   "metadata": {},
   "source": [
    "Given the 3-dimensional linear model with parameters $\\boldsymbol{\\theta} = \\{ b = 1, \\mathbf{w} = (1, 2, 3)^\\intercal \\}$, and the following dataset:\n",
    "\n",
    "| $$x_{i, 1}$$ | $$x_{i, 2}$$ | $$x_{i, 3}$$ | $$y_i$$ |\n",
    "|---------|---------|---------|---------|\n",
    "|    3    |    2    |    1    |    1    |\n",
    "|    -1   |    2    |   -2    |    1    |\n",
    "|    0    |    0    |   0     |    0    |\n",
    "\n",
    "1. Compute the Accuracy."
   ]
  },
  {
   "cell_type": "code",
   "execution_count": 6,
   "metadata": {},
   "outputs": [
    {
     "name": "stdout",
     "output_type": "stream",
     "text": [
      "ACC: 33.33%\n",
      "ACC: 33.33% (with sklearn)\n"
     ]
    }
   ],
   "source": [
    "################################################################################\n",
    "# Insert code.\n",
    "b = 2\n",
    "w = np.array([1, 0, 2])\n",
    "\n",
    "x = np.array([[3, 2, 1], [-1, 2, -2], [0, 0, 0]])\n",
    "y = np.array([1, 1, 0])\n",
    "\n",
    "pred = np.sign(x @ w + b)\n",
    "pred[pred != 1] = 0\n",
    "\n",
    "acc = np.mean(pred == y)\n",
    "\n",
    "print(\"ACC: {:.2f}%\".format(100 * acc))\n",
    "\n",
    "# Alternatively:\n",
    "print(\"ACC: {:.2f}% (with sklearn)\".format(100 * accuracy_score(y, pred)))\n",
    "################################################################################"
   ]
  },
  {
   "cell_type": "markdown",
   "metadata": {},
   "source": [
    "### Binary Linear Classification: Probability"
   ]
  },
  {
   "cell_type": "markdown",
   "metadata": {},
   "source": [
    "Given the 3-dimensional linear classification model with parameters $\\boldsymbol{\\theta} = \\{ b = 1, \\mathbf{w} = (1, 2, 3)^\\intercal \\}$.\n",
    "\n",
    "1. Compute the probability of $\\mathbf{x} = (3, 2, 1)^\\intercal$ belonging to class $\\mathcal{C}_1$.\n",
    "2. Compute the probability of $\\mathbf{x} = (-1, 2, -2)^\\intercal$ belonging to class $\\mathcal{C}_1$.\n",
    "3. Compute the probability of $\\mathbf{x} = (0, 0, 0)^\\intercal$ belonging to class $\\mathcal{C}_1$."
   ]
  },
  {
   "cell_type": "code",
   "execution_count": 7,
   "metadata": {},
   "outputs": [
    {
     "name": "stdout",
     "output_type": "stream",
     "text": [
      "x =  [3 2 1] \n",
      "\t=> f(x) = 11 => p(C1 | x) = 100.00%\n",
      "\n",
      "x =  [-1  2 -2] \n",
      "\t=> f(x) = -2 => p(C1 | x) = 11.92%\n",
      "\n",
      "x =  [0 0 0] \n",
      "\t=> f(x) =  1 => p(C1 | x) = 73.11%\n",
      "\n"
     ]
    }
   ],
   "source": [
    "################################################################################\n",
    "# Insert code.\n",
    "b = 1\n",
    "w = np.array([1, 2, 3])\n",
    "\n",
    "for x in [np.array([3, 2, 1]), np.array([-1, 2, -2]), np.array([0, 0, 0])]:\n",
    "    f_x = w @ x + b\n",
    "    p_x = 1 / (1 + np.exp(-f_x))\n",
    "    print(\n",
    "        \"x = \", x, \"\\n\\t=> f(x) = {:2g} => p(C1 | x) = {:.2f}%\\n\".format(f_x, 100 * p_x)\n",
    "    )\n",
    "################################################################################"
   ]
  },
  {
   "cell_type": "markdown",
   "metadata": {},
   "source": [
    "### Binary Linear Classification: Likelihood"
   ]
  },
  {
   "cell_type": "markdown",
   "metadata": {},
   "source": [
    "Given the 3-dimensional linear model with parameters $\\boldsymbol{\\theta} = \\{ b = 1, \\mathbf{w} = (1, 2, 3)^\\intercal \\}$, and the following dataset:\n",
    "\n",
    "| $$x_{i, 1}$$ | $$x_{i, 2}$$ | $$x_{i, 3}$$ | $$y_i$$ |\n",
    "|---------|---------|---------|---------|\n",
    "|    3    |    2    |    1    |    1    |\n",
    "|    -1   |    2    |   -2    |    1    |\n",
    "|    0    |    0    |   0     |    0    |\n",
    "\n",
    "1. Compute the Likelihood of this model."
   ]
  },
  {
   "cell_type": "code",
   "execution_count": 8,
   "metadata": {},
   "outputs": [
    {
     "name": "stdout",
     "output_type": "stream",
     "text": [
      "Probabilities:  [0.9999833  0.11920292 0.73105858]\n",
      "Likelihood: 3.21%\n",
      "Likelihood: 3.21% (with sklearn)\n"
     ]
    }
   ],
   "source": [
    "################################################################################\n",
    "# Insert code.\n",
    "b = 1\n",
    "w = np.array([1, 2, 3])\n",
    "\n",
    "x = np.array([[3, 2, 1], [-1, 2, -2], [0, 0, 0]])\n",
    "y = np.array([1, 1, 0])\n",
    "\n",
    "prob = 1 / (1 + np.exp(-(x @ w + b)))\n",
    "print(\"Probabilities: \", prob)\n",
    "likel = np.prod(np.power(prob, y) * np.power(1 - prob, 1 - y))\n",
    "\n",
    "print(\"Likelihood: {:.2f}%\".format(100 * likel))\n",
    "\n",
    "# Alternatively:\n",
    "print(\n",
    "    \"Likelihood: {:.2f}% (with sklearn)\".format(\n",
    "        100 * np.exp(-log_loss(y, prob, normalize=False))\n",
    "    )\n",
    ")\n",
    "################################################################################"
   ]
  }
 ],
 "metadata": {
  "kernelspec": {
   "display_name": "Python 3 (ipykernel)",
   "language": "python",
   "name": "python3"
  },
  "language_info": {
   "codemirror_mode": {
    "name": "ipython",
    "version": 3
   },
   "file_extension": ".py",
   "mimetype": "text/x-python",
   "name": "python",
   "nbconvert_exporter": "python",
   "pygments_lexer": "ipython3",
   "version": "3.10.9"
  },
  "toc": {
   "base_numbering": 1,
   "nav_menu": {},
   "number_sections": true,
   "sideBar": true,
   "skip_h1_title": false,
   "title_cell": "Table of Contents",
   "title_sidebar": "Contents",
   "toc_cell": false,
   "toc_position": {
    "height": "calc(100% - 180px)",
    "left": "10px",
    "top": "150px",
    "width": "288px"
   },
   "toc_section_display": true,
   "toc_window_display": true
  }
 },
 "nbformat": 4,
 "nbformat_minor": 4
}
