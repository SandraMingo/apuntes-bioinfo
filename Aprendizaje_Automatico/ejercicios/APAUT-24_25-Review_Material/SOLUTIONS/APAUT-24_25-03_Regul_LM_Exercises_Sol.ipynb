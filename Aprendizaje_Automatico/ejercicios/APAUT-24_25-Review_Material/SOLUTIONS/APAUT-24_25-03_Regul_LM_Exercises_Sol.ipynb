{
 "cells": [
  {
   "cell_type": "markdown",
   "id": "245b896a",
   "metadata": {},
   "source": [
    "<div class=\"title\">Regularized Linear Models: Review</div>\n",
    "<div class=\"subtitle\">Machine Learning</div>\n",
    "<div class=\"author\">Carlos María Alaíz Gudín &mdash; Universidad Autónoma de Madrid</div>\n",
    "\n",
    "---"
   ]
  },
  {
   "cell_type": "markdown",
   "id": "33f08580",
   "metadata": {},
   "source": [
    "**Configuration**"
   ]
  },
  {
   "cell_type": "markdown",
   "metadata": {},
   "source": [
    "This cell defines the general configuration of Jupyter Notebook."
   ]
  },
  {
   "cell_type": "code",
   "execution_count": null,
   "metadata": {},
   "outputs": [],
   "source": [
    "%%html\n",
    "<head><link rel=\"stylesheet\" href=\"style.css\"></head>"
   ]
  },
  {
   "cell_type": "markdown",
   "metadata": {},
   "source": [
    "This cell imports the packages to be used."
   ]
  },
  {
   "cell_type": "code",
   "execution_count": null,
   "metadata": {},
   "outputs": [],
   "source": [
    "# Standard packages.\n",
    "import matplotlib\n",
    "import numpy as np\n",
    "import sys\n",
    "\n",
    "# Initialisations.\n",
    "matplotlib.rc(\"figure\", figsize=(15, 5))\n",
    "sys.dont_write_bytecode = True"
   ]
  },
  {
   "cell_type": "markdown",
   "id": "12de08bd",
   "metadata": {},
   "source": [
    "# Review of Regularized Linear Models"
   ]
  },
  {
   "cell_type": "markdown",
   "metadata": {},
   "source": [
    "## Key Concepts"
   ]
  },
  {
   "cell_type": "markdown",
   "metadata": {},
   "source": [
    "* Bias/Variance\n",
    "\n",
    "\n",
    "* Regularization.\n",
    "\n",
    "\n",
    "* Over-Fitting/Under-Fitting.\n",
    "\n",
    "\n",
    "* Error Term.\n",
    "\n",
    "\n",
    "* Regularization Term.\n",
    "\n",
    "\n",
    "* Regularization Parameter.\n",
    "\n",
    "\n",
    "* $\\ell_2$ Norm Regularization.\n",
    "\n",
    "\n",
    "* $\\ell_1$ Norm Regularization.\n",
    "\n",
    "\n",
    "* Sparsity.\n",
    "\n",
    "\n",
    "* Ridge Regression.\n",
    "\n",
    "\n",
    "* Lasso.\n",
    "\n",
    "\n",
    "* Elastic–Net."
   ]
  },
  {
   "cell_type": "markdown",
   "metadata": {},
   "source": [
    "## Additional Exercises"
   ]
  },
  {
   "cell_type": "markdown",
   "metadata": {},
   "source": [
    "### $\\ell_2$ Norm"
   ]
  },
  {
   "cell_type": "markdown",
   "metadata": {},
   "source": [
    "Given the following 4-dimensional linear models, compute their squared $\\ell_2$ norm.\n",
    "\n",
    "1. Model 1: $\\mathbf{w}^\\intercal = (1, 1, 1, 1).$\n",
    "2. Model 2: $\\mathbf{w}^\\intercal = (0, 0, 4, 0).$\n",
    "3. Model 3: $\\mathbf{w}^\\intercal = (0, 1, 2, 3).$"
   ]
  },
  {
   "cell_type": "code",
   "execution_count": null,
   "metadata": {},
   "outputs": [],
   "source": [
    "################################################################################\n",
    "# Insert code.\n",
    "for w in [np.array([1, 1, 1, 1]), np.array([0, 0, 4, 0]), np.array([0, 1, 2, 3])]:\n",
    "    n_w = np.sum(w**2)\n",
    "    print(\"w = \", w, \"\\n\\t=> ||w||_2 = {:2g}\".format(n_w))\n",
    "    # Alternatively:\n",
    "    print(\"\\t=> ||w||_2 = {:2g} (with NumPy)\\n\".format(np.linalg.norm(w) ** 2))\n",
    "################################################################################"
   ]
  },
  {
   "cell_type": "markdown",
   "metadata": {},
   "source": [
    "### $\\ell_1$ Norm"
   ]
  },
  {
   "cell_type": "markdown",
   "metadata": {},
   "source": [
    "Given the following 4-dimensional linear models, compute their $\\ell_1$ norm.\n",
    "\n",
    "1. Model 1: $\\mathbf{w}^\\intercal = (1, 1, 1, 1).$\n",
    "2. Model 2: $\\mathbf{w}^\\intercal = (0, 0, 4, 0).$\n",
    "3. Model 3: $\\mathbf{w}^\\intercal = (0, 1, 2, 3).$"
   ]
  },
  {
   "cell_type": "code",
   "execution_count": null,
   "metadata": {},
   "outputs": [],
   "source": [
    "################################################################################\n",
    "# Insert code.\n",
    "for w in [np.array([1, 1, 1, 1]), np.array([0, 0, 4, 0]), np.array([0, 1, 2, 3])]:\n",
    "    n_w = np.sum(np.abs(w))\n",
    "    print(\"w = \", w, \"\\n\\t=> ||w||_1 = {:2g}\\n\".format(n_w))\n",
    "    # Alternatively:\n",
    "    print(\"\\t=> ||w||_1 = {:2g} (with NumPy)\\n\".format(np.linalg.norm(w, ord=1)))\n",
    "################################################################################"
   ]
  }
 ],
 "metadata": {
  "kernelspec": {
   "display_name": "default",
   "language": "python",
   "name": "python3"
  },
  "language_info": {
   "codemirror_mode": {
    "name": "ipython",
    "version": 3
   },
   "file_extension": ".py",
   "mimetype": "text/x-python",
   "name": "python",
   "nbconvert_exporter": "python",
   "pygments_lexer": "ipython3",
   "version": "3.12.10"
  },
  "toc": {
   "base_numbering": 1,
   "nav_menu": {},
   "number_sections": true,
   "sideBar": true,
   "skip_h1_title": false,
   "title_cell": "Table of Contents",
   "title_sidebar": "Contents",
   "toc_cell": false,
   "toc_position": {
    "height": "calc(100% - 180px)",
    "left": "10px",
    "top": "150px",
    "width": "288px"
   },
   "toc_section_display": true,
   "toc_window_display": true
  }
 },
 "nbformat": 4,
 "nbformat_minor": 4
}
