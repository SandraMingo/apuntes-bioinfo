{
 "cells": [
  {
   "cell_type": "markdown",
   "id": "f79347a6",
   "metadata": {},
   "source": [
    "<div class=\"title\">Introduction to Artificial Neural Networks: Review</div>\n",
    "<div class=\"subtitle\">Machine Learning</div>\n",
    "<div class=\"author\">Carlos María Alaíz Gudín &mdash; Universidad Autónoma de Madrid</div>\n",
    "\n",
    "---"
   ]
  },
  {
   "cell_type": "markdown",
   "id": "8b97df8c",
   "metadata": {},
   "source": [
    "**Configuration**"
   ]
  },
  {
   "cell_type": "markdown",
   "metadata": {},
   "source": [
    "This cell defines the general configuration of Jupyter Notebook."
   ]
  },
  {
   "cell_type": "code",
   "execution_count": null,
   "metadata": {},
   "outputs": [],
   "source": [
    "%%html\n",
    "<head><link rel=\"stylesheet\" href=\"style.css\"></head>"
   ]
  },
  {
   "cell_type": "markdown",
   "metadata": {},
   "source": [
    "This cell imports the packages to be used."
   ]
  },
  {
   "cell_type": "code",
   "execution_count": null,
   "metadata": {},
   "outputs": [],
   "source": [
    "# Standard packages.\n",
    "import matplotlib\n",
    "import numpy as np\n",
    "import sys\n",
    "\n",
    "# Initialisations.\n",
    "matplotlib.rc(\"figure\", figsize=(15, 5))\n",
    "sys.dont_write_bytecode = True"
   ]
  },
  {
   "cell_type": "markdown",
   "id": "e66e9550",
   "metadata": {},
   "source": [
    "# Review of Artificial Neural Networks"
   ]
  },
  {
   "cell_type": "markdown",
   "metadata": {},
   "source": [
    "## Key Concepts"
   ]
  },
  {
   "cell_type": "markdown",
   "metadata": {},
   "source": [
    "* Perceptron or TLU or McCulloch–Pitts Neuron.\n",
    "\n",
    "\n",
    "* Activation Function.\n",
    "\n",
    "\n",
    "* Heaviside Step Function.\n",
    "\n",
    "\n",
    "* Rosenblatt Perceptron Algorithm.\n",
    "\n",
    "\n",
    "* Feedforward Neural Network.\n",
    "\n",
    "\n",
    "* MultiLayer Perceptron.\n",
    "\n",
    "\n",
    "* Input/Hidden/Output Layer.\n",
    "\n",
    "\n",
    "* Universal Approximation Property.\n",
    "\n",
    "\n",
    "* Recurrent Neural Network.\n",
    "\n",
    "\n",
    "* Convolutional Neural Network."
   ]
  },
  {
   "cell_type": "markdown",
   "metadata": {},
   "source": [
    "## Additional Exercises"
   ]
  },
  {
   "cell_type": "markdown",
   "metadata": {},
   "source": [
    "### Feedforward Neural Networks"
   ]
  },
  {
   "cell_type": "markdown",
   "metadata": {},
   "source": [
    "Given this FFNN, where the activation functions (for both the hidden and the output layer) are logistic, e.g. $g(x) = \\frac{1}{1 + e^{- x}}$:\n",
    "<img src=\"fig/MLP-Exercise.svg\" width=50%; alt=\"FFNN.\">\n",
    "\n",
    "Given the following dataset:\n",
    "\n",
    "| $$x_{i, 1}$$ | $$x_{i, 2}$$ |\n",
    "|--------|---------|\n",
    "|    0   |    0    |\n",
    "|    0   |    1    |\n",
    "|    1   |    0    |\n",
    "|    1   |    1    |\n",
    "\n",
    "1. Compute the output of the FFNN for the four samples."
   ]
  },
  {
   "cell_type": "code",
   "execution_count": null,
   "metadata": {},
   "outputs": [],
   "source": [
    "################################################################################\n",
    "# Insert code.\n",
    "\n",
    "################################################################################"
   ]
  }
 ],
 "metadata": {
  "kernelspec": {
   "display_name": "default",
   "language": "python",
   "name": "python3"
  },
  "language_info": {
   "codemirror_mode": {
    "name": "ipython",
    "version": 3
   },
   "file_extension": ".py",
   "mimetype": "text/x-python",
   "name": "python",
   "nbconvert_exporter": "python",
   "pygments_lexer": "ipython3",
   "version": "3.12.10"
  },
  "toc": {
   "base_numbering": 1,
   "nav_menu": {},
   "number_sections": true,
   "sideBar": true,
   "skip_h1_title": false,
   "title_cell": "Table of Contents",
   "title_sidebar": "Contents",
   "toc_cell": false,
   "toc_position": {
    "height": "calc(100% - 180px)",
    "left": "10px",
    "top": "150px",
    "width": "288px"
   },
   "toc_section_display": true,
   "toc_window_display": true
  }
 },
 "nbformat": 4,
 "nbformat_minor": 4
}
