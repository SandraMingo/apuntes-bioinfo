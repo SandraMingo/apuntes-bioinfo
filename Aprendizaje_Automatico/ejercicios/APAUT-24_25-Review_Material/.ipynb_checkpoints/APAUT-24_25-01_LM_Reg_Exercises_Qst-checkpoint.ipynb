{
 "cells": [
  {
   "cell_type": "markdown",
   "id": "409f073d",
   "metadata": {},
   "source": [
    "<div class=\"title\">Linear Models for Regression: Review</div>\n",
    "<div class=\"subtitle\">Machine Learning</div>\n",
    "<div class=\"author\">Carlos María Alaíz Gudín &mdash; Universidad Autónoma de Madrid</div>\n",
    "\n",
    "---"
   ]
  },
  {
   "cell_type": "markdown",
   "id": "37b73b1f",
   "metadata": {},
   "source": [
    "**Configuration**"
   ]
  },
  {
   "cell_type": "markdown",
   "metadata": {},
   "source": [
    "This cell defines the general configuration of Jupyter Notebook."
   ]
  },
  {
   "cell_type": "code",
   "execution_count": null,
   "metadata": {},
   "outputs": [],
   "source": [
    "%%html\n",
    "<head><link rel=\"stylesheet\" href=\"style.css\"></head>"
   ]
  },
  {
   "cell_type": "markdown",
   "metadata": {},
   "source": [
    "This cell imports the packages to be used."
   ]
  },
  {
   "cell_type": "code",
   "execution_count": null,
   "metadata": {},
   "outputs": [],
   "source": [
    "# Standard packages.\n",
    "import matplotlib\n",
    "import numpy as np\n",
    "from sklearn.metrics import mean_absolute_error\n",
    "from sklearn.metrics import mean_squared_error\n",
    "import sys\n",
    "\n",
    "# Initialisations.\n",
    "matplotlib.rc(\"figure\", figsize=(15, 5))\n",
    "sys.dont_write_bytecode = True"
   ]
  },
  {
   "cell_type": "markdown",
   "id": "2f50a712",
   "metadata": {},
   "source": [
    "# Review of Linear Models for Regression"
   ]
  },
  {
   "cell_type": "markdown",
   "metadata": {},
   "source": [
    "## Key Concepts"
   ]
  },
  {
   "cell_type": "markdown",
   "metadata": {},
   "source": [
    "* Linear Regression Model.\n",
    "\n",
    "\n",
    "* Weight Vector.\n",
    "\n",
    "\n",
    "* Bias or Intercept Term.\n",
    "\n",
    "\n",
    "* Mean Squared Error.\n",
    "\n",
    "\n",
    "* Mean Absolute Error.\n",
    "\n",
    "\n",
    "* Optimization Problem (for training a model)."
   ]
  },
  {
   "cell_type": "markdown",
   "metadata": {},
   "source": [
    "## Additional Exercises"
   ]
  },
  {
   "cell_type": "markdown",
   "metadata": {},
   "source": [
    "### 1-Dimensional Linear Regression: Output"
   ]
  },
  {
   "cell_type": "markdown",
   "metadata": {},
   "source": [
    "Given the 1-dimensional linear model with parameters $\\boldsymbol{\\theta} = \\{ b = 3, w = 2 \\}$.\n",
    "\n",
    "1. Compute the output of the model for $x = -1$.\n",
    "2. Compute the output of the model for $x = +3$."
   ]
  },
  {
   "cell_type": "code",
   "execution_count": null,
   "metadata": {},
   "outputs": [],
   "source": [
    "################################################################################\n",
    "# Insert code.\n",
    "\n",
    "################################################################################"
   ]
  },
  {
   "cell_type": "markdown",
   "metadata": {},
   "source": [
    "### 1-Dimensional Linear Regression: Quality"
   ]
  },
  {
   "cell_type": "markdown",
   "metadata": {},
   "source": [
    "Given the 1-dimensional linear model with parameters $\\boldsymbol{\\theta} = \\{ b = 3, w = 2 \\}$, and the following dataset:\n",
    "\n",
    "| $$x_i$$ | $$y_i$$ |\n",
    "|---------|---------|\n",
    "|    -1   |    0    |\n",
    "|    +3   |    7    |\n",
    "\n",
    "1. Compute the Mean Absolute Error.\n",
    "2. Compute the Mean Squared Error.\n"
   ]
  },
  {
   "cell_type": "code",
   "execution_count": null,
   "metadata": {},
   "outputs": [],
   "source": [
    "################################################################################\n",
    "# Insert code.\n",
    "\n",
    "################################################################################"
   ]
  },
  {
   "cell_type": "markdown",
   "metadata": {},
   "source": [
    "### Linear Regression: Output"
   ]
  },
  {
   "cell_type": "markdown",
   "metadata": {},
   "source": [
    "Given the 3-dimensional linear model with parameters $\\boldsymbol{\\theta} = \\{ b = 2, \\mathbf{w} = (1, 0, 2)^\\intercal \\}$.\n",
    "\n",
    "1. Compute the output of the model for $\\mathbf{x} = (1, 0, 0)^\\intercal$.\n",
    "2. Compute the output of the model for $\\mathbf{x} = (1, 1, 1)^\\intercal$."
   ]
  },
  {
   "cell_type": "code",
   "execution_count": null,
   "metadata": {},
   "outputs": [],
   "source": [
    "################################################################################\n",
    "# Insert code.\n",
    "\n",
    "################################################################################"
   ]
  },
  {
   "cell_type": "markdown",
   "metadata": {},
   "source": [
    "### Linear Regression: Quality"
   ]
  },
  {
   "cell_type": "markdown",
   "metadata": {},
   "source": [
    "Given the 3-dimensional linear model with parameters $\\boldsymbol{\\theta} = \\{ b = 2, \\mathbf{w} = (1, 0, 2)^\\intercal \\}$, and the following dataset:\n",
    "\n",
    "| $$x_{i, 1}$$ | $$x_{i, 2}$$ | $$x_{i, 3}$$ | $$y_i$$ |\n",
    "|---------|---------|---------|---------|\n",
    "|    1    |    0    |    0    |    4    |\n",
    "|    1    |    1    |    1    |    2    |\n",
    "\n",
    "1. Compute the Mean Absolute Error.\n",
    "2. Compute the Mean Squared Error."
   ]
  },
  {
   "cell_type": "code",
   "execution_count": null,
   "metadata": {},
   "outputs": [],
   "source": [
    "################################################################################\n",
    "# Insert code.\n",
    "\n",
    "################################################################################"
   ]
  }
 ],
 "metadata": {
  "kernelspec": {
   "display_name": "default",
   "language": "python",
   "name": "python3"
  },
  "language_info": {
   "codemirror_mode": {
    "name": "ipython",
    "version": 3
   },
   "file_extension": ".py",
   "mimetype": "text/x-python",
   "name": "python",
   "nbconvert_exporter": "python",
   "pygments_lexer": "ipython3",
   "version": "3.12.10"
  },
  "toc": {
   "base_numbering": 1,
   "nav_menu": {},
   "number_sections": true,
   "sideBar": true,
   "skip_h1_title": false,
   "title_cell": "Table of Contents",
   "title_sidebar": "Contents",
   "toc_cell": false,
   "toc_position": {
    "height": "calc(100% - 180px)",
    "left": "10px",
    "top": "150px",
    "width": "288px"
   },
   "toc_section_display": true,
   "toc_window_display": true
  }
 },
 "nbformat": 4,
 "nbformat_minor": 4
}
