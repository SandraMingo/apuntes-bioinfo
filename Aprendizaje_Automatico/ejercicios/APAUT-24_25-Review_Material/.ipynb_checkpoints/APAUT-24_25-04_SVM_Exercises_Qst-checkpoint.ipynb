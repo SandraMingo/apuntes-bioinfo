{
 "cells": [
  {
   "cell_type": "markdown",
   "id": "7cdb013e",
   "metadata": {},
   "source": [
    "<div class=\"title\">Non-Linear Models and SVMs: Review</div>\n",
    "<div class=\"subtitle\">Machine Learning</div>\n",
    "<div class=\"author\">Carlos María Alaíz Gudín &mdash; Universidad Autónoma de Madrid</div>\n",
    "\n",
    "---"
   ]
  },
  {
   "cell_type": "markdown",
   "id": "a2d842b9",
   "metadata": {},
   "source": [
    "**Configuration**"
   ]
  },
  {
   "cell_type": "markdown",
   "metadata": {},
   "source": [
    "This cell defines the general configuration of Jupyter Notebook."
   ]
  },
  {
   "cell_type": "code",
   "execution_count": null,
   "metadata": {},
   "outputs": [],
   "source": [
    "%%html\n",
    "<head><link rel=\"stylesheet\" href=\"style.css\"></head>"
   ]
  },
  {
   "cell_type": "markdown",
   "metadata": {},
   "source": [
    "This cell imports the packages to be used."
   ]
  },
  {
   "cell_type": "code",
   "execution_count": null,
   "metadata": {},
   "outputs": [],
   "source": [
    "# Standard packages.\n",
    "import matplotlib\n",
    "from matplotlib import pyplot as plt\n",
    "import numpy as np\n",
    "from sklearn.metrics import mean_squared_error\n",
    "import sys\n",
    "\n",
    "# Initialisations.\n",
    "matplotlib.rc(\"figure\", figsize=(15, 5))\n",
    "sys.dont_write_bytecode = True"
   ]
  },
  {
   "cell_type": "markdown",
   "id": "bec4fa41",
   "metadata": {},
   "source": [
    "# Review of Non-Linear Models and SVMs"
   ]
  },
  {
   "cell_type": "markdown",
   "metadata": {},
   "source": [
    "## Key Concepts"
   ]
  },
  {
   "cell_type": "markdown",
   "metadata": {},
   "source": [
    "* Generalized Linear Model.\n",
    "\n",
    "\n",
    "* Non-Linear Mapping or Embedding.\n",
    "\n",
    "\n",
    "* Feature Construction.\n",
    "\n",
    "\n",
    "* Set of Basis Functions.\n",
    "\n",
    "\n",
    "* Adaptive Basis Functions.\n",
    "\n",
    "\n",
    "* Dual Problem.\n",
    "\n",
    "\n",
    "* Kernel Trick.\n",
    "\n",
    "\n",
    "* Kernel Function.\n",
    "\n",
    "\n",
    "* Kernel Ridge Regression.\n",
    "\n",
    "\n",
    "* Margin.\n",
    "\n",
    "\n",
    "* Hard-Margin Support Vector Machine.\n",
    "\n",
    "\n",
    "* Dual Formulation.\n",
    "\n",
    "\n",
    "* Support Vector.\n",
    "\n",
    "\n",
    "* Soft-Margin Support Vector Machine.\n",
    "\n",
    "\n",
    "* Hinge Loss Function.\n",
    "\n",
    "\n",
    "* Support Vector Regression.\n",
    "\n",
    "\n",
    "* $\\epsilon$-Insensitive Loss.\n",
    "\n",
    "\n",
    "* RBF or Gaussian Kernel."
   ]
  },
  {
   "cell_type": "markdown",
   "metadata": {},
   "source": [
    "## Additional Exercises"
   ]
  },
  {
   "cell_type": "markdown",
   "metadata": {},
   "source": [
    "### Generalized Linear Model"
   ]
  },
  {
   "cell_type": "markdown",
   "metadata": {},
   "source": [
    "Given the generalized linear model built over the mapping\n",
    "$$ \\boldsymbol{\\phi}(x_1, x_2) = (x_1^2, x_2^2, x_1 x_2 + 2) , $$\n",
    "and with parameters $\\boldsymbol{\\theta} = \\{ b = 2, \\mathbf{w} = (1, 2, 3)^\\intercal \\}$, and given the following dataset:\n",
    "\n",
    "| $$x_{i, 1}$$ | $$x_{i, 2}$$ | $$y_i$$ |\n",
    "|--------|---------|--------|\n",
    "|    3   |    2    |   40   |\n",
    "|    1   |    4    |   55   |\n",
    "|    0   |    0    |   10   |\n",
    "\n",
    "1. Compute the Mean Squared Error."
   ]
  },
  {
   "cell_type": "code",
   "execution_count": null,
   "metadata": {},
   "outputs": [],
   "source": [
    "################################################################################\n",
    "# Insert code.\n",
    "\n",
    "################################################################################"
   ]
  },
  {
   "cell_type": "markdown",
   "metadata": {},
   "source": [
    "### Margin of a Linear Model"
   ]
  },
  {
   "cell_type": "markdown",
   "metadata": {},
   "source": [
    "Given a 2-dimensional linear classification model with parameters $\\boldsymbol{\\theta} = \\{ b = -1.25, \\mathbf{w} = (1, 1)^\\intercal \\}$, and given the following dataset:\n",
    "\n",
    "| $$x_{i, 1}$$ | $$x_{i, 2}$$ |\n",
    "|--------|---------|\n",
    "|    1   |    0    |\n",
    "|    0   |    1    |\n",
    "|    1   |    1    |\n",
    "\n",
    "1. Compute the margin of the linear model."
   ]
  },
  {
   "cell_type": "code",
   "execution_count": null,
   "metadata": {},
   "outputs": [],
   "source": [
    "################################################################################\n",
    "# Insert code.\n",
    "\n",
    "################################################################################"
   ]
  },
  {
   "cell_type": "markdown",
   "metadata": {},
   "source": [
    "### Hinge Loss"
   ]
  },
  {
   "cell_type": "markdown",
   "metadata": {},
   "source": [
    "Given a 2-dimensional linear classification model with parameters $\\boldsymbol{\\theta} = \\{ b = -2.5, \\mathbf{w} = (2, 2)^\\intercal \\}$, and given the following dataset:\n",
    "\n",
    "| $$x_{i, 1}$$ | $$x_{i, 2}$$ | $$y_i$$ |\n",
    "|--------|---------|--------|\n",
    "|    1   |    0    |   -1   |\n",
    "|    0   |    1    |    1   |\n",
    "|    1   |    1    |    1   |\n",
    "\n",
    "1. Compute the hinge loss error for each pattern."
   ]
  },
  {
   "cell_type": "code",
   "execution_count": null,
   "metadata": {},
   "outputs": [],
   "source": [
    "################################################################################\n",
    "# Insert code.\n",
    "\n",
    "################################################################################"
   ]
  },
  {
   "cell_type": "markdown",
   "metadata": {},
   "source": [
    "### $\\epsilon$-Insensitive Loss"
   ]
  },
  {
   "cell_type": "markdown",
   "metadata": {},
   "source": [
    "Given a 2-dimensional linear regression model with parameters $\\boldsymbol{\\theta} = \\{ b = -2.5, \\mathbf{w} = (2, 2)^\\intercal \\}$, and given the following dataset:\n",
    "\n",
    "| $$x_{i, 1}$$ | $$x_{i, 2}$$ | $$y_i$$ |\n",
    "|--------|---------|--------|\n",
    "|    1   |    0    |   -1   |\n",
    "|    0   |    1    |    0   |\n",
    "|    1   |    1    |    1.4 |\n",
    "\n",
    "1. Compute the $\\epsilon$-insensitive loss error for each pattern, for $\\epsilon = 0.2$."
   ]
  },
  {
   "cell_type": "code",
   "execution_count": null,
   "metadata": {},
   "outputs": [],
   "source": [
    "################################################################################\n",
    "# Insert code.\n",
    "\n",
    "################################################################################"
   ]
  }
 ],
 "metadata": {
  "kernelspec": {
   "display_name": "default",
   "language": "python",
   "name": "python3"
  },
  "language_info": {
   "codemirror_mode": {
    "name": "ipython",
    "version": 3
   },
   "file_extension": ".py",
   "mimetype": "text/x-python",
   "name": "python",
   "nbconvert_exporter": "python",
   "pygments_lexer": "ipython3",
   "version": "3.12.10"
  },
  "toc": {
   "base_numbering": 1,
   "nav_menu": {},
   "number_sections": true,
   "sideBar": true,
   "skip_h1_title": false,
   "title_cell": "Table of Contents",
   "title_sidebar": "Contents",
   "toc_cell": false,
   "toc_position": {
    "height": "calc(100% - 180px)",
    "left": "10px",
    "top": "150px",
    "width": "288px"
   },
   "toc_section_display": true,
   "toc_window_display": true
  }
 },
 "nbformat": 4,
 "nbformat_minor": 4
}
