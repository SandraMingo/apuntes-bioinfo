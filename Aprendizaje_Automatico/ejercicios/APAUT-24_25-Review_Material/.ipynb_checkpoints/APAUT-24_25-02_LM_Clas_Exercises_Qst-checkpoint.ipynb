{
 "cells": [
  {
   "cell_type": "markdown",
   "id": "d9a4de10",
   "metadata": {},
   "source": [
    "<div class=\"title\">Linear Models for Classification: Review</div>\n",
    "<div class=\"subtitle\">Machine Learning</div>\n",
    "<div class=\"author\">Carlos María Alaíz Gudín &mdash; Universidad Autónoma de Madrid</div>\n",
    "\n",
    "---"
   ]
  },
  {
   "cell_type": "markdown",
   "id": "061222ff",
   "metadata": {},
   "source": [
    "**Configuration**"
   ]
  },
  {
   "cell_type": "markdown",
   "metadata": {},
   "source": [
    "This cell defines the general configuration of Jupyter Notebook."
   ]
  },
  {
   "cell_type": "code",
   "execution_count": null,
   "metadata": {},
   "outputs": [],
   "source": [
    "%%html\n",
    "<head><link rel=\"stylesheet\" href=\"style.css\"></head>"
   ]
  },
  {
   "cell_type": "markdown",
   "metadata": {},
   "source": [
    "This cell imports the packages to be used."
   ]
  },
  {
   "cell_type": "code",
   "execution_count": null,
   "metadata": {},
   "outputs": [],
   "source": [
    "# Standard packages.\n",
    "import matplotlib\n",
    "import numpy as np\n",
    "from sklearn.metrics import accuracy_score\n",
    "from sklearn.metrics import log_loss\n",
    "import sys\n",
    "\n",
    "# Initialisations.\n",
    "matplotlib.rc(\"figure\", figsize=(15, 5))\n",
    "sys.dont_write_bytecode = True"
   ]
  },
  {
   "cell_type": "markdown",
   "id": "1d78d8de",
   "metadata": {},
   "source": [
    "# Review of Linear Models for Classification"
   ]
  },
  {
   "cell_type": "markdown",
   "metadata": {},
   "source": [
    "## Key Concepts"
   ]
  },
  {
   "cell_type": "markdown",
   "metadata": {},
   "source": [
    "* Linear Classification Model.\n",
    "\n",
    "\n",
    "* Accuracy.\n",
    "\n",
    "\n",
    "* Logistic Regression\n",
    "\n",
    "\n",
    "* Logistic Function.\n",
    "\n",
    "\n",
    "* Likelihood.\n",
    "\n",
    "\n",
    "* Cross-Entropy.\n",
    "\n",
    "\n",
    "* Gradient Descent."
   ]
  },
  {
   "cell_type": "markdown",
   "metadata": {},
   "source": [
    "## Additional Exercises"
   ]
  },
  {
   "cell_type": "markdown",
   "metadata": {},
   "source": [
    "### Binary Linear Classification: Output"
   ]
  },
  {
   "cell_type": "markdown",
   "metadata": {},
   "source": [
    "Given the 3-dimensional linear classification model with parameters $\\boldsymbol{\\theta} = \\{ b = 1, \\mathbf{w} = (1, 2, 3)^\\intercal \\}$.\n",
    "\n",
    "1. Compute the output of the model for $\\mathbf{x} = (3, 2, 1)^\\intercal$.\n",
    "2. Compute the output of the model for $\\mathbf{x} = (-1, 2, -2)^\\intercal$.\n",
    "3. Compute the output of the model for $\\mathbf{x} = (0, 0, 0)^\\intercal$."
   ]
  },
  {
   "cell_type": "code",
   "execution_count": null,
   "metadata": {},
   "outputs": [],
   "source": [
    "################################################################################\n",
    "# Insert code.\n",
    "\n",
    "################################################################################"
   ]
  },
  {
   "cell_type": "markdown",
   "metadata": {},
   "source": [
    "### Binary Linear Classification: Quality"
   ]
  },
  {
   "cell_type": "markdown",
   "metadata": {},
   "source": [
    "Given the 3-dimensional linear model with parameters $\\boldsymbol{\\theta} = \\{ b = 1, \\mathbf{w} = (1, 2, 3)^\\intercal \\}$, and the following dataset:\n",
    "\n",
    "| $$x_{i, 1}$$ | $$x_{i, 2}$$ | $$x_{i, 3}$$ | $$y_i$$ |\n",
    "|---------|---------|---------|---------|\n",
    "|    3    |    2    |    1    |    1    |\n",
    "|    -1   |    2    |   -2    |    1    |\n",
    "|    0    |    0    |   0     |    0    |\n",
    "\n",
    "1. Compute the Accuracy."
   ]
  },
  {
   "cell_type": "code",
   "execution_count": null,
   "metadata": {},
   "outputs": [],
   "source": [
    "################################################################################\n",
    "# Insert code.\n",
    "\n",
    "################################################################################"
   ]
  },
  {
   "cell_type": "markdown",
   "metadata": {},
   "source": [
    "### Binary Linear Classification: Probability"
   ]
  },
  {
   "cell_type": "markdown",
   "metadata": {},
   "source": [
    "Given the 3-dimensional linear classification model with parameters $\\boldsymbol{\\theta} = \\{ b = 1, \\mathbf{w} = (1, 2, 3)^\\intercal \\}$.\n",
    "\n",
    "1. Compute the probability of $\\mathbf{x} = (3, 2, 1)^\\intercal$ belonging to class $\\mathcal{C}_1$.\n",
    "2. Compute the probability of $\\mathbf{x} = (-1, 2, -2)^\\intercal$ belonging to class $\\mathcal{C}_1$.\n",
    "3. Compute the probability of $\\mathbf{x} = (0, 0, 0)^\\intercal$ belonging to class $\\mathcal{C}_1$."
   ]
  },
  {
   "cell_type": "code",
   "execution_count": null,
   "metadata": {},
   "outputs": [],
   "source": [
    "################################################################################\n",
    "# Insert code.\n",
    "\n",
    "################################################################################"
   ]
  },
  {
   "cell_type": "markdown",
   "metadata": {},
   "source": [
    "### Binary Linear Classification: Likelihood"
   ]
  },
  {
   "cell_type": "markdown",
   "metadata": {},
   "source": [
    "Given the 3-dimensional linear model with parameters $\\boldsymbol{\\theta} = \\{ b = 1, \\mathbf{w} = (1, 2, 3)^\\intercal \\}$, and the following dataset:\n",
    "\n",
    "| $$x_{i, 1}$$ | $$x_{i, 2}$$ | $$x_{i, 3}$$ | $$y_i$$ |\n",
    "|---------|---------|---------|---------|\n",
    "|    3    |    2    |    1    |    1    |\n",
    "|    -1   |    2    |   -2    |    1    |\n",
    "|    0    |    0    |   0     |    0    |\n",
    "\n",
    "1. Compute the Likelihood of this model."
   ]
  },
  {
   "cell_type": "code",
   "execution_count": null,
   "metadata": {},
   "outputs": [],
   "source": [
    "################################################################################\n",
    "# Insert code.\n",
    "\n",
    "################################################################################"
   ]
  }
 ],
 "metadata": {
  "kernelspec": {
   "display_name": "default",
   "language": "python",
   "name": "python3"
  },
  "language_info": {
   "codemirror_mode": {
    "name": "ipython",
    "version": 3
   },
   "file_extension": ".py",
   "mimetype": "text/x-python",
   "name": "python",
   "nbconvert_exporter": "python",
   "pygments_lexer": "ipython3",
   "version": "3.12.10"
  },
  "toc": {
   "base_numbering": 1,
   "nav_menu": {},
   "number_sections": true,
   "sideBar": true,
   "skip_h1_title": false,
   "title_cell": "Table of Contents",
   "title_sidebar": "Contents",
   "toc_cell": false,
   "toc_position": {
    "height": "calc(100% - 180px)",
    "left": "10px",
    "top": "150px",
    "width": "288px"
   },
   "toc_section_display": true,
   "toc_window_display": true
  }
 },
 "nbformat": 4,
 "nbformat_minor": 4
}
