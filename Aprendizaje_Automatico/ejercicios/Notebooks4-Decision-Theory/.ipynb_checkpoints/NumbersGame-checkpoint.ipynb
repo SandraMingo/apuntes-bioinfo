{
 "cells": [
  {
   "cell_type": "markdown",
   "metadata": {},
   "source": [
    "# Numbers Game"
   ]
  },
  {
   "cell_type": "markdown",
   "metadata": {},
   "source": [
    "This notebook illustrate the process of maximum likelihood estimation, maximum a posteriori estimation, computing predictive distributions, etc. using the set of distributions over the integers described in the slides of the course."
   ]
  },
  {
   "cell_type": "markdown",
   "metadata": {},
   "source": [
    "We import the required packages."
   ]
  },
  {
   "cell_type": "code",
   "execution_count": 1,
   "metadata": {},
   "outputs": [],
   "source": [
    "import numpy as np\n",
    "import matplotlib.pyplot as plt"
   ]
  },
  {
   "cell_type": "code",
   "execution_count": 2,
   "metadata": {},
   "outputs": [],
   "source": [
    "# We define the range of the integers we will consider\n",
    "\n",
    "first = 1\n",
    "last = 100"
   ]
  },
  {
   "cell_type": "markdown",
   "metadata": {},
   "source": [
    "## Potential Distributions"
   ]
  },
  {
   "cell_type": "markdown",
   "metadata": {},
   "source": [
    "We now specify the different uniform distributions we may consider. For this, we use python dictionaries."
   ]
  },
  {
   "cell_type": "code",
   "execution_count": 3,
   "metadata": {},
   "outputs": [],
   "source": [
    "allN = np.arange(first, last + 1)\n",
    "\n",
    "allintegers = {'values': allN, 'name': 'all', 'size': len(allN)}\n",
    "even = {'values': allN[ allN % 2 == 0 ],'name': 'even', 'size' : len(allN[ allN % 2 == 0 ])}\n",
    "odd = {'values': allN[ allN % 2 == 1 ],'name': 'odd', 'size' : len(allN[ allN % 2 == 1 ])}\n",
    "multof3 = {'values': allN[ allN % 3 == 0 ],'name': 'multof3', 'size' : len(allN[ allN % 3 == 0 ])}\n",
    "multof4 = {'values': allN[ allN % 4 == 0 ],'name': 'multof4', 'size' : len(allN[ allN % 4 == 0 ])}\n",
    "multof5 = {'values': allN[ allN % 5 == 0 ],'name': 'multof5', 'size' : len(allN[ allN % 5 == 0 ])}\n",
    "multof6 = {'values': allN[ allN % 6 == 0 ],'name': 'multof6', 'size' : len(allN[ allN % 6 == 0 ])}\n",
    "multof7 = {'values': allN[ allN % 7 == 0 ],'name': 'multof7', 'size' : len(allN[ allN % 7 == 0 ])}\n",
    "multof8 = {'values': allN[ allN % 8 == 0 ],'name': 'multof8', 'size' : len(allN[ allN % 8 == 0 ])}\n",
    "multof9 = {'values': allN[ allN % 9 == 0 ],'name': 'multof9', 'size' : len(allN[ allN % 9 == 0 ])}\n",
    "multof10 = {'values': allN[ allN % 10 == 0 ],'name': 'multof10', 'size' : len(allN[ allN % 10 == 0 ])}\n",
    "endsin0 = {'values': allN[ allN % 10 == 0 ],'name': 'endsin0', 'size' : len(allN[ allN % 10 == 0 ])}\n",
    "endsin1 = {'values': allN[ allN % 10 == 1 ],'name': 'endsin1', 'size' : len(allN[ allN % 10 == 1 ])}\n",
    "endsin2 = {'values': allN[ allN % 10 == 2 ],'name': 'endsin2', 'size' : len(allN[ allN % 10 == 2 ])}\n",
    "endsin3 = {'values': allN[ allN % 10 == 3 ],'name': 'endsin3', 'size' : len(allN[ allN % 10 == 3 ])}\n",
    "endsin4 = {'values': allN[ allN % 10 == 4 ],'name': 'endsin4', 'size' : len(allN[ allN % 10 == 4 ])}\n",
    "endsin5 = {'values': allN[ allN % 10 == 5 ],'name': 'endsin5', 'size' : len(allN[ allN % 10 == 5 ])}\n",
    "endsin6 = {'values': allN[ allN % 10 == 6 ],'name': 'endsin6', 'size' : len(allN[ allN % 10 == 6 ])}\n",
    "endsin7 = {'values': allN[ allN % 10 == 7 ],'name': 'endsin7', 'size' : len(allN[ allN % 10 == 7 ])}\n",
    "endsin8 = {'values': allN[ allN % 10 == 8 ],'name': 'endsin8', 'size' : len(allN[ allN % 10 == 8 ])}\n",
    "endsin9 = {'values': allN[ allN % 10 == 9 ],'name': 'endsin9', 'size' : len(allN[ allN % 10 == 9 ])}\n",
    "\n",
    "def powers_of(base):\n",
    "    return (base**np.arange((np.log(first) / np.log(base)) + 1, \\\n",
    "        int((np.log(last) / np.log(base))) + 1)).astype(np.int64)\n",
    "\n",
    "powersof2 = {'values': powers_of(2),'name': 'powersof2', 'size' : len(powers_of(2))}\n",
    "powersof3 = {'values': powers_of(3),'name': 'powersof3', 'size' : len(powers_of(3))}\n",
    "powersof4 = {'values': powers_of(4),'name': 'powersof4', 'size' : len(powers_of(4))}\n",
    "powersof5 = {'values': powers_of(5),'name': 'powersof5', 'size' : len(powers_of(5))}\n",
    "powersof6 = {'values': powers_of(6),'name': 'powersof6', 'size' : len(powers_of(6))}\n",
    "powersof7 = {'values': powers_of(7),'name': 'powersof7', 'size' : len(powers_of(7))}\n",
    "powersof8 = {'values': powers_of(8),'name': 'powersof8', 'size' : len(powers_of(8))}\n",
    "powersof9 = {'values': powers_of(9),'name': 'powersof9', 'size' : len(powers_of(9))}\n",
    "powersof10 = {'values': powers_of(10),'name': 'powersof10', 'size' : len(powers_of(10))}\n",
    "\n",
    "powersof2plus37 = {'values': np.sort(np.append(powers_of(2), [37])),'name': \\\n",
    "    'powersof2plus37', 'size' : len(powers_of(2)) + 1}\n",
    "\n",
    "powersof2except32 = {'values': powers_of(2)[ powers_of(2) != 32 ],'name': \\\n",
    "    'powersof2except32', 'size' : len(powers_of(2)) - 1}\n",
    "\n",
    "# We store the distributions in a list\n",
    "\n",
    "distributions = [ allintegers, even, odd, multof3, multof4, multof5, multof6, multof7, \\\n",
    "    multof8, multof9, multof10, endsin0, endsin1, endsin2, endsin3, endsin4, endsin5, endsin6, \\\n",
    "    endsin7, endsin8, endsin9, powersof2, powersof3, powersof4, powersof5, powersof6, powersof7, \\\n",
    "    powersof8, powersof9, powersof10, powersof2plus37, powersof2except32 ]\n"
   ]
  },
  {
   "cell_type": "markdown",
   "metadata": {},
   "source": [
    "## Prior Probabilitites"
   ]
  },
  {
   "cell_type": "markdown",
   "metadata": {},
   "source": [
    "We specify the prior probability of each distribution. We consider that odd and even are more likely a priori, and that powers of 2 plus 37 and powers of 2 minus 32 are less likely."
   ]
  },
  {
   "cell_type": "code",
   "execution_count": 4,
   "metadata": {},
   "outputs": [],
   "source": [
    "# We set at first all distributions to have the same prior probability\n",
    "\n",
    "for i in range(len(distributions)):\n",
    "    distributions[ i ]['prior'] = 0.05\n",
    "    \n",
    "# We now increase a bit the probability of even and odd numbers\n",
    "\n",
    "even['prior'] = 0.5\n",
    "odd['prior'] = 0.5\n",
    "\n",
    "powersof2plus37['prior'] = 0.001\n",
    "powersof2except32['prior'] = 0.001\n",
    "\n",
    "# We now normalize the probabilities to add up to one\n",
    "\n",
    "total_probability = 0.0\n",
    "\n",
    "for i in range(len(distributions)):\n",
    "    total_probability += distributions[ i ]['prior'];\n",
    "    \n",
    "for i in range(len(distributions)):\n",
    "    distributions[ i ]['prior'] /= total_probability\n",
    "    \n"
   ]
  },
  {
   "cell_type": "markdown",
   "metadata": {},
   "source": [
    "## Likelihood Function"
   ]
  },
  {
   "cell_type": "markdown",
   "metadata": {},
   "source": [
    "We define a likelihood function to evaluate the probability of the observed data given some distribution."
   ]
  },
  {
   "cell_type": "code",
   "execution_count": 5,
   "metadata": {},
   "outputs": [],
   "source": [
    "def likelihood(data, distribution):\n",
    "    \n",
    "    possible_values = distribution['values']\n",
    "    \n",
    "    # If there is one observaion outside of the set of potential values we \n",
    "    # return 0, otherwise we return the probability of observing that data \n",
    "    # samplilng uniformly from the distribution\n",
    "    \n",
    "    if not (np.all(np.in1d(data, possible_values))):\n",
    "        return 0.0\n",
    "    else:\n",
    "        return (1.0 / distribution['size'])**len(data)\n",
    "    "
   ]
  },
  {
   "cell_type": "code",
   "execution_count": 6,
   "metadata": {},
   "outputs": [
    {
     "name": "stdout",
     "output_type": "stream",
     "text": [
      "0.0004\n",
      "0.0\n",
      "0.1111111111111111\n"
     ]
    }
   ],
   "source": [
    "print(likelihood(np.array([ 4, 16 ]), even))\n",
    "print(likelihood(np.array([ 4, 16 ]), odd))\n",
    "print(likelihood(np.array([ 4, 16 ]), powersof4))"
   ]
  },
  {
   "cell_type": "markdown",
   "metadata": {},
   "source": [
    "## Posterior Probabilities"
   ]
  },
  {
   "cell_type": "markdown",
   "metadata": {},
   "source": [
    "We define a function in python that will compute the posterior probability of each distribution given some data. For this, Bayes' rule will be used."
   ]
  },
  {
   "cell_type": "code",
   "execution_count": 7,
   "metadata": {},
   "outputs": [],
   "source": [
    "def posterior(data, distribution):\n",
    "    \n",
    "    numerator = likelihood(data, distribution) * distribution['prior'] \n",
    "    denominator = 0.0\n",
    "    \n",
    "    for i in range(len(distributions)):\n",
    "        denominator += likelihood(data, distributions[ i ]) * \\\n",
    "            distributions[ i ]['prior'] \n",
    "        \n",
    "    # If the data cannot be explained by any distribution we return 0.0 \n",
    "    # as the posterior probability    \n",
    "        \n",
    "    if denominator == 0.0 and numerator == 0.0:\n",
    "        return 0.0\n",
    "        \n",
    "    return numerator / denominator"
   ]
  },
  {
   "cell_type": "markdown",
   "metadata": {},
   "source": [
    "We check that the posterior probabilities make sense"
   ]
  },
  {
   "cell_type": "code",
   "execution_count": 8,
   "metadata": {},
   "outputs": [
    {
     "name": "stdout",
     "output_type": "stream",
     "text": [
      "0.027435396950067272\n",
      "0.0\n",
      "0.7620943597240908\n"
     ]
    }
   ],
   "source": [
    "print(posterior(np.array([ 4, 16 ]), even))\n",
    "print(posterior(np.array([ 4, 16 ]), odd))\n",
    "print(posterior(np.array([ 4, 16 ]), powersof4))"
   ]
  },
  {
   "cell_type": "markdown",
   "metadata": {},
   "source": [
    "## Predictive Distribution"
   ]
  },
  {
   "cell_type": "markdown",
   "metadata": {},
   "source": [
    "We compute the predictive distribution given some observed data. This involves marginalizing across distributions."
   ]
  },
  {
   "cell_type": "code",
   "execution_count": 9,
   "metadata": {},
   "outputs": [],
   "source": [
    "def predictive(data):\n",
    "    \n",
    "    # We will store here the probability of each number\n",
    "    \n",
    "    prob_per_number = np.zeros(len(np.arange(first, last + 1)))\n",
    "    \n",
    "    for i in range(len(distributions)):\n",
    "              \n",
    "        prob_per_number[ distributions[ i ]['values'] - 1 ] += (1.0 / distributions[ i ]['size']) * \\\n",
    "            posterior(data, distributions[ i ])\n",
    "        \n",
    "    return prob_per_number"
   ]
  },
  {
   "cell_type": "markdown",
   "metadata": {},
   "source": [
    "We briefly check that the predictive distribution is computed properly."
   ]
  },
  {
   "cell_type": "code",
   "execution_count": 10,
   "metadata": {},
   "outputs": [
    {
     "name": "stdout",
     "output_type": "stream",
     "text": [
      "[1.06361426e-04 3.51906788e-02 1.06361426e-04 1.55071824e-01\n",
      " 1.06361426e-04 1.49969611e-02 1.06361426e-04 4.42786718e-02\n",
      " 1.06361426e-04 4.36081848e-03 1.06361426e-04 6.06260130e-03\n",
      " 1.06361426e-04 4.36081848e-03 1.06361426e-04 1.73094177e-01\n",
      " 1.06361426e-04 4.36081848e-03 1.06361426e-04 6.06260130e-03\n",
      " 1.06361426e-04 4.36081848e-03 1.06361426e-04 1.34488115e-02\n",
      " 1.06361426e-04 1.49969611e-02 1.06361426e-04 6.06260130e-03\n",
      " 1.06361426e-04 4.36081848e-03 1.06361426e-04 4.34277804e-02\n",
      " 1.06361426e-04 4.36081848e-03 1.06361426e-04 1.66987439e-02\n",
      " 5.40489697e-04 4.36081848e-03 1.06361426e-04 1.34488115e-02\n",
      " 1.06361426e-04 4.36081848e-03 1.06361426e-04 6.06260130e-03\n",
      " 1.06361426e-04 1.49969611e-02 1.06361426e-04 1.34488115e-02\n",
      " 1.06361426e-04 4.36081848e-03 1.06361426e-04 6.06260130e-03\n",
      " 1.06361426e-04 4.36081848e-03 1.06361426e-04 2.40849541e-02\n",
      " 1.06361426e-04 4.36081848e-03 1.06361426e-04 6.06260130e-03\n",
      " 1.06361426e-04 4.36081848e-03 1.06361426e-04 1.62458034e-01\n",
      " 1.06361426e-04 1.49969611e-02 1.06361426e-04 6.06260130e-03\n",
      " 1.06361426e-04 4.36081848e-03 1.06361426e-04 1.34488115e-02\n",
      " 1.06361426e-04 4.36081848e-03 1.06361426e-04 1.66987439e-02\n",
      " 1.06361426e-04 4.36081848e-03 1.06361426e-04 1.34488115e-02\n",
      " 1.06361426e-04 4.36081848e-03 1.06361426e-04 6.06260130e-03\n",
      " 1.06361426e-04 1.49969611e-02 1.06361426e-04 1.34488115e-02\n",
      " 1.06361426e-04 4.36081848e-03 1.06361426e-04 6.06260130e-03\n",
      " 1.06361426e-04 4.36081848e-03 1.06361426e-04 2.40849541e-02\n",
      " 1.06361426e-04 4.36081848e-03 1.06361426e-04 6.06260130e-03]\n"
     ]
    }
   ],
   "source": [
    "print(predictive(np.array([ 16  ])))"
   ]
  },
  {
   "cell_type": "markdown",
   "metadata": {},
   "source": [
    "# Illustrative Example"
   ]
  },
  {
   "cell_type": "markdown",
   "metadata": {},
   "source": [
    "We carry out an illustrative example to plot the prior distribution, prior, likelihood and predictive distribution given some observed data. For this, we define next the data observed."
   ]
  },
  {
   "cell_type": "code",
   "execution_count": 46,
   "metadata": {},
   "outputs": [],
   "source": [
    "# This vector will store the observed data\n",
    "\n",
    "data = np.array([ 2 ])"
   ]
  },
  {
   "cell_type": "markdown",
   "metadata": {},
   "source": [
    "We plot the prior, likelhood and posterior probabilty of each distribution."
   ]
  },
  {
   "cell_type": "code",
   "execution_count": 47,
   "metadata": {},
   "outputs": [
    {
     "data": {
      "image/png": "[encoded data removed]",
      "text/plain": [
       "<Figure size 1080x360 with 3 Axes>"
      ]
     },
     "metadata": {
      "needs_background": "light"
     },
     "output_type": "display_data"
    }
   ],
   "source": [
    "f, axarr = plt.subplots(3, 1, figsize=(15, 5))\n",
    "\n",
    "# We plot the prior first at the bottom\n",
    "\n",
    "priors = np.array([ distributions[ i ]['prior'] for i in range(len(distributions)) ])\n",
    "\n",
    "axarr[ 2 ].bar(np.arange(1, len(distributions) + 1), priors)\n",
    "axarr[ 2 ].set_xticks(np.arange(1, len(distributions) + 1))\n",
    "axarr[ 2 ].set_xticklabels([ distributions[ i ]['name'] for i in range(len(distributions)) ], rotation = 45)\n",
    "axarr[ 2 ].set_ylabel('Prior Prob.')\n",
    "\n",
    "# We now plot the likelihood in the middle row\n",
    "\n",
    "likelihood_values = np.array([ likelihood(data, distributions[ i ]) for i in range(len(distributions)) ])\n",
    "\n",
    "axarr[ 1 ].bar(np.arange(1, len(distributions) + 1), likelihood_values)\n",
    "axarr[ 1 ].set_xticks(np.arange(1, len(distributions) + 1))\n",
    "axarr[ 1 ].set_xticklabels([ '' for i in range(len(distributions)) ], rotation = 45)\n",
    "axarr[ 1 ].set_ylim([ 0, np.max(likelihood_values) ])\n",
    "axarr[ 1 ].set_ylabel('Likelihood')\n",
    "\n",
    "# We now plot the posterior at the top row\n",
    "\n",
    "post_values = np.array([ posterior(data, distributions[ i ]) for i in range(len(distributions)) ])\n",
    "\n",
    "axarr[ 0 ].bar(np.arange(1, len(distributions) + 1), post_values)\n",
    "axarr[ 0 ].set_xticks(np.arange(1, len(distributions) + 1))\n",
    "axarr[ 0 ].set_xticklabels([ '' for i in range(len(distributions)) ], rotation = 45)\n",
    "axarr[ 0 ].set_ylim([ 0, 1 ])\n",
    "axarr[ 0 ].set_ylabel('Post. Prob.')\n",
    "\n",
    "plt.show()"
   ]
  },
  {
   "cell_type": "markdown",
   "metadata": {},
   "source": [
    "We now show the predictive distribution given the observed data. "
   ]
  },
  {
   "cell_type": "code",
   "execution_count": 48,
   "metadata": {},
   "outputs": [
    {
     "data": {
      "image/png": "[encoded data removed]",
      "text/plain": [
       "<Figure size 1440x144 with 1 Axes>"
      ]
     },
     "metadata": {
      "needs_background": "light"
     },
     "output_type": "display_data"
    }
   ],
   "source": [
    "pred_dist = predictive(data)\n",
    "\n",
    "plt.figure(figsize=(20, 2))\n",
    "plt.title('Predictive Distribution for Each Number Given the Observed Data')\n",
    "plt.xlim(first, last)\n",
    "plt.xticks(even['values'])\n",
    "plt.bar(allN, pred_dist)\n",
    "plt.show()"
   ]
  },
  {
   "cell_type": "markdown",
   "metadata": {},
   "source": [
    "We check that the probaiblities sum to one."
   ]
  },
  {
   "cell_type": "code",
   "execution_count": 49,
   "metadata": {},
   "outputs": [
    {
     "name": "stdout",
     "output_type": "stream",
     "text": [
      "1.0\n"
     ]
    }
   ],
   "source": [
    "print(np.sum(pred_dist))"
   ]
  },
  {
   "cell_type": "markdown",
   "metadata": {},
   "source": [
    "# Practical Exercise"
   ]
  },
  {
   "cell_type": "markdown",
   "metadata": {},
   "source": [
    "Assume that we are observing the following numbers: 2. After observing each number, you are asked to plot the prior, likelihood and posterior distribution of each hypothetical distribution, and the corresponding predictive distribution. Explain the results observed (likelihood values, posterior and predictive distribution). Repeat again with the numbers 2, 4, 8, and 16. "
   ]
  },
  {
   "cell_type": "code",
   "execution_count": null,
   "metadata": {},
   "outputs": [],
   "source": []
  },
  {
   "cell_type": "code",
   "execution_count": null,
   "metadata": {},
   "outputs": [],
   "source": []
  },
  {
   "cell_type": "code",
   "execution_count": null,
   "metadata": {},
   "outputs": [],
   "source": []
  },
  {
   "cell_type": "code",
   "execution_count": null,
   "metadata": {},
   "outputs": [],
   "source": []
  },
  {
   "cell_type": "code",
   "execution_count": null,
   "metadata": {},
   "outputs": [],
   "source": []
  },
  {
   "cell_type": "code",
   "execution_count": null,
   "metadata": {},
   "outputs": [],
   "source": []
  }
 ],
 "metadata": {
  "kernelspec": {
   "display_name": "Python 3 (ipykernel)",
   "language": "python",
   "name": "python3"
  },
  "language_info": {
   "codemirror_mode": {
    "name": "ipython",
    "version": 3
   },
   "file_extension": ".py",
   "mimetype": "text/x-python",
   "name": "python",
   "nbconvert_exporter": "python",
   "pygments_lexer": "ipython3",
   "version": "3.10.9"
  }
 },
 "nbformat": 4,
 "nbformat_minor": 2
}
