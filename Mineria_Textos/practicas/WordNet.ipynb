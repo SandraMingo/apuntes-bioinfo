{
 "cells": [
  {
   "cell_type": "markdown",
   "id": "98d5ba40",
   "metadata": {},
   "source": [
    "# WordNet\n",
    "\n",
    "## Trabajando con Wordnet en Python NLTK\n",
    "\n",
    "_Disclaimer_: some information and examples of this notebook come from [Documentación de WordNet en NLTK](https://www.nltk.org/howto/wordnet.html)"
   ]
  },
  {
   "cell_type": "markdown",
   "id": "e799f059",
   "metadata": {},
   "source": [
    "Si no lo tenemos ya instalado, instalemos NLTK:"
   ]
  },
  {
   "cell_type": "markdown",
   "id": "ecd6131f-5a47-4006-8e6a-c3481f6080ab",
   "metadata": {},
   "source": [
    "!pip install nltk"
   ]
  },
  {
   "cell_type": "markdown",
   "id": "7df95e8a",
   "metadata": {},
   "source": [
    "y ahora cargamos wordnet:"
   ]
  },
  {
   "cell_type": "code",
   "execution_count": 2,
   "id": "b9c10972",
   "metadata": {},
   "outputs": [
    {
     "name": "stderr",
     "output_type": "stream",
     "text": [
      "[nltk_data] Downloading package wordnet to\n",
      "[nltk_data]     C:\\Users\\Sandra\\AppData\\Roaming\\nltk_data...\n",
      "[nltk_data]   Package wordnet is already up-to-date!\n"
     ]
    },
    {
     "data": {
      "text/plain": [
       "True"
      ]
     },
     "execution_count": 2,
     "metadata": {},
     "output_type": "execute_result"
    }
   ],
   "source": [
    "import nltk #natural language toolkit\n",
    "nltk.download('wordnet')"
   ]
  },
  {
   "cell_type": "code",
   "execution_count": 3,
   "id": "796eca6f",
   "metadata": {},
   "outputs": [],
   "source": [
    "from nltk.corpus import wordnet as wn"
   ]
  },
  {
   "cell_type": "markdown",
   "id": "450058a1",
   "metadata": {},
   "source": [
    "Para obtener todos los synset de una palabra:"
   ]
  },
  {
   "cell_type": "code",
   "execution_count": 4,
   "id": "a5e409ef",
   "metadata": {},
   "outputs": [
    {
     "data": {
      "text/plain": [
       "[Synset('dog.n.01'),\n",
       " Synset('frump.n.01'),\n",
       " Synset('dog.n.03'),\n",
       " Synset('cad.n.01'),\n",
       " Synset('frank.n.02'),\n",
       " Synset('pawl.n.01'),\n",
       " Synset('andiron.n.01'),\n",
       " Synset('chase.v.01')]"
      ]
     },
     "execution_count": 4,
     "metadata": {},
     "output_type": "execute_result"
    }
   ],
   "source": [
    "wn.synsets('dog')"
   ]
  },
  {
   "cell_type": "markdown",
   "id": "408f7625",
   "metadata": {},
   "source": [
    "Si queremos sacar el synset que esté relacionado solo con un determinado POStag:"
   ]
  },
  {
   "cell_type": "code",
   "execution_count": 5,
   "id": "6e6ccf67",
   "metadata": {},
   "outputs": [
    {
     "data": {
      "text/plain": [
       "[Synset('chase.v.01')]"
      ]
     },
     "execution_count": 5,
     "metadata": {},
     "output_type": "execute_result"
    }
   ],
   "source": [
    "wn.synsets('dog', pos=wn.VERB)"
   ]
  },
  {
   "cell_type": "markdown",
   "id": "889c9c72",
   "metadata": {},
   "source": [
    "Si queremos sacar la definición de uno de los synsets concretos:"
   ]
  },
  {
   "cell_type": "code",
   "execution_count": 6,
   "id": "4850e353",
   "metadata": {},
   "outputs": [
    {
     "data": {
      "text/plain": [
       "'a member of the genus Canis (probably descended from the common wolf) that has been domesticated by man since prehistoric times; occurs in many breeds'"
      ]
     },
     "execution_count": 6,
     "metadata": {},
     "output_type": "execute_result"
    }
   ],
   "source": [
    "wn.synset('dog.n.01').definition()"
   ]
  },
  {
   "cell_type": "markdown",
   "id": "d147b72f",
   "metadata": {},
   "source": [
    "¿Cuáles con los lemas que podemos emplear para referirnos a esa acepción?"
   ]
  },
  {
   "cell_type": "code",
   "execution_count": 7,
   "id": "a2b336d8",
   "metadata": {},
   "outputs": [
    {
     "data": {
      "text/plain": [
       "[Lemma('dog.n.01.dog'),\n",
       " Lemma('dog.n.01.domestic_dog'),\n",
       " Lemma('dog.n.01.Canis_familiaris')]"
      ]
     },
     "execution_count": 7,
     "metadata": {},
     "output_type": "execute_result"
    }
   ],
   "source": [
    "wn.synset('dog.n.01').lemmas()"
   ]
  },
  {
   "cell_type": "markdown",
   "id": "b3d7f2fe",
   "metadata": {},
   "source": [
    "y si queremos sacar la cadena asociada al lema:"
   ]
  },
  {
   "cell_type": "code",
   "execution_count": 8,
   "id": "1d9b9061",
   "metadata": {},
   "outputs": [
    {
     "data": {
      "text/plain": [
       "['dog', 'domestic_dog', 'Canis_familiaris']"
      ]
     },
     "execution_count": 8,
     "metadata": {},
     "output_type": "execute_result"
    }
   ],
   "source": [
    "[l.name() for l in wn.synset('dog.n.01').lemmas()]"
   ]
  },
  {
   "cell_type": "markdown",
   "id": "7c82f566",
   "metadata": {},
   "source": [
    "Supongamos que lo que se desea es obtener todos los sinónimos de un determinado lema, obtendremos una lista por cada acepción.\n",
    "\n",
    "Por ejemplo, para los synsets del siguiente lema:"
   ]
  },
  {
   "cell_type": "code",
   "execution_count": 9,
   "id": "aad2e615",
   "metadata": {},
   "outputs": [
    {
     "data": {
      "text/plain": [
       "[Synset('bat.n.01'),\n",
       " Synset('bat.n.02'),\n",
       " Synset('squash_racket.n.01'),\n",
       " Synset('cricket_bat.n.01'),\n",
       " Synset('bat.n.05'),\n",
       " Synset('bat.v.01'),\n",
       " Synset('bat.v.02'),\n",
       " Synset('bat.v.03'),\n",
       " Synset('bat.v.04'),\n",
       " Synset('cream.v.02')]"
      ]
     },
     "execution_count": 9,
     "metadata": {},
     "output_type": "execute_result"
    }
   ],
   "source": [
    "wn.synsets('bat')"
   ]
  },
  {
   "cell_type": "markdown",
   "id": "851578b7",
   "metadata": {},
   "source": [
    "podemos preguntar por los sinónimos que tiene, y nos devolverá una lista para cada acepción:"
   ]
  },
  {
   "cell_type": "code",
   "execution_count": 10,
   "id": "577e076d",
   "metadata": {},
   "outputs": [
    {
     "data": {
      "text/plain": [
       "[['chiropteran'],\n",
       " ['at-bat'],\n",
       " ['squash_racket', 'squash_racquet'],\n",
       " ['cricket_bat'],\n",
       " [],\n",
       " [],\n",
       " ['flutter'],\n",
       " [],\n",
       " [],\n",
       " ['clobber', 'cream', 'drub', 'lick', 'thrash']]"
      ]
     },
     "execution_count": 10,
     "metadata": {},
     "output_type": "execute_result"
    }
   ],
   "source": [
    "wn.synonyms('bat')"
   ]
  },
  {
   "cell_type": "markdown",
   "id": "e05a0413",
   "metadata": {},
   "source": [
    "Los sinónimos aparecen en las posiciones de los sinsets. Para el sinset 1, el sinónimo es quiróptero, para el 2 es at-bat, para el 3 hay dos sinónimos: squash racket y squash racquet, etc."
   ]
  },
  {
   "cell_type": "markdown",
   "id": "0b5793a1",
   "metadata": {},
   "source": [
    "Si en la implementación del API que tengamos instalada no disponemos del método `synonyms`, podríamos obtener la lísta de sinónimos recorriendo todos los synsets, extrayendo sus lemas, y metiéndolos en un conjunto (para eliminar duplicados) del siguiente modo:"
   ]
  },
  {
   "cell_type": "code",
   "execution_count": 11,
   "id": "97a460e5",
   "metadata": {},
   "outputs": [
    {
     "data": {
      "text/plain": [
       "{'at-bat',\n",
       " 'bat',\n",
       " 'chiropteran',\n",
       " 'clobber',\n",
       " 'cream',\n",
       " 'cricket_bat',\n",
       " 'drub',\n",
       " 'flutter',\n",
       " 'lick',\n",
       " 'squash_racket',\n",
       " 'squash_racquet',\n",
       " 'thrash'}"
      ]
     },
     "execution_count": 11,
     "metadata": {},
     "output_type": "execute_result"
    }
   ],
   "source": [
    "set([l.name() for syn in wn.synsets('bat') for l in syn.lemmas()])"
   ]
  },
  {
   "cell_type": "markdown",
   "id": "a1f994e9",
   "metadata": {},
   "source": [
    "Para obtener los hiperónimos e hipónimos usaremos los synsets."
   ]
  },
  {
   "cell_type": "code",
   "execution_count": 12,
   "id": "9c008722",
   "metadata": {},
   "outputs": [
    {
     "data": {
      "text/plain": [
       "[Synset('canine.n.02'), Synset('domestic_animal.n.01')]"
      ]
     },
     "execution_count": 12,
     "metadata": {},
     "output_type": "execute_result"
    }
   ],
   "source": [
    "dog = wn.synset('dog.n.01')\n",
    "dog.hypernyms()"
   ]
  },
  {
   "cell_type": "code",
   "execution_count": 13,
   "id": "e3773163",
   "metadata": {},
   "outputs": [
    {
     "data": {
      "text/plain": [
       "[Synset('working_dog.n.01'),\n",
       " Synset('hunting_dog.n.01'),\n",
       " Synset('poodle.n.01'),\n",
       " Synset('leonberg.n.01'),\n",
       " Synset('cur.n.01'),\n",
       " Synset('newfoundland.n.01'),\n",
       " Synset('pug.n.01'),\n",
       " Synset('corgi.n.01'),\n",
       " Synset('dalmatian.n.02'),\n",
       " Synset('pooch.n.01'),\n",
       " Synset('lapdog.n.01'),\n",
       " Synset('spitz.n.01'),\n",
       " Synset('basenji.n.01'),\n",
       " Synset('griffon.n.02'),\n",
       " Synset('great_pyrenees.n.01'),\n",
       " Synset('toy_dog.n.01'),\n",
       " Synset('mexican_hairless.n.01'),\n",
       " Synset('puppy.n.01')]"
      ]
     },
     "execution_count": 13,
     "metadata": {},
     "output_type": "execute_result"
    }
   ],
   "source": [
    "dog.hyponyms()"
   ]
  },
  {
   "cell_type": "markdown",
   "id": "14f3ee78",
   "metadata": {},
   "source": [
    "Y la relación de holonímia (del todo y las partes)"
   ]
  },
  {
   "cell_type": "code",
   "execution_count": 14,
   "id": "82226ea2",
   "metadata": {},
   "outputs": [
    {
     "data": {
      "text/plain": [
       "[Synset('canis.n.01'), Synset('pack.n.06')]"
      ]
     },
     "execution_count": 14,
     "metadata": {},
     "output_type": "execute_result"
    }
   ],
   "source": [
    "dog.member_holonyms()"
   ]
  },
  {
   "cell_type": "markdown",
   "id": "1e384a6e",
   "metadata": {},
   "source": [
    "Para obtener los antónimos en wordnet, debemos hacerlo a través de los lemas:"
   ]
  },
  {
   "cell_type": "code",
   "execution_count": 15,
   "id": "a5cf2d67",
   "metadata": {},
   "outputs": [
    {
     "data": {
      "text/plain": [
       "[Lemma('bad.a.01.bad')]"
      ]
     },
     "execution_count": 15,
     "metadata": {},
     "output_type": "execute_result"
    }
   ],
   "source": [
    "wn.lemma('good.a.01.good').antonyms()"
   ]
  }
 ],
 "metadata": {
  "kernelspec": {
   "display_name": "Python 3",
   "language": "python",
   "name": "python3"
  },
  "language_info": {
   "codemirror_mode": {
    "name": "ipython",
    "version": 3
   },
   "file_extension": ".py",
   "mimetype": "text/x-python",
   "name": "python",
   "nbconvert_exporter": "python",
   "pygments_lexer": "ipython3",
   "version": "3.13.9"
  }
 },
 "nbformat": 4,
 "nbformat_minor": 5
}
