{
 "cells": [
  {
   "cell_type": "markdown",
   "id": "98d5ba40",
   "metadata": {},
   "source": [
    "# WordNet\n",
    "\n",
    "## Trabajando con Wordnet en Python NLTK\n",
    "\n",
    "_Disclaimer_: some information and examples of this notebook come from [Documentación de WordNet en NLTK](https://www.nltk.org/howto/wordnet.html)"
   ]
  },
  {
   "cell_type": "markdown",
   "id": "e799f059",
   "metadata": {},
   "source": [
    "Si no lo tenemos ya instalado, instalemos NLTK:"
   ]
  },
  {
   "cell_type": "raw",
   "id": "ec077e6b",
   "metadata": {},
   "source": [
    "!pip install nltk"
   ]
  },
  {
   "cell_type": "markdown",
   "id": "7df95e8a",
   "metadata": {},
   "source": [
    "y ahora cargamos wordnet:"
   ]
  },
  {
   "cell_type": "code",
   "execution_count": null,
   "id": "b9c10972",
   "metadata": {},
   "outputs": [],
   "source": [
    "import nltk\n",
    "nltk.download('wordnet')"
   ]
  },
  {
   "cell_type": "code",
   "execution_count": null,
   "id": "796eca6f",
   "metadata": {},
   "outputs": [],
   "source": [
    "from nltk.corpus import wordnet as wn"
   ]
  },
  {
   "cell_type": "markdown",
   "id": "450058a1",
   "metadata": {},
   "source": [
    "Para obtener todos los synset de una palabra:"
   ]
  },
  {
   "cell_type": "code",
   "execution_count": null,
   "id": "a5e409ef",
   "metadata": {},
   "outputs": [],
   "source": [
    "wn.synsets('dog')"
   ]
  },
  {
   "cell_type": "markdown",
   "id": "408f7625",
   "metadata": {},
   "source": [
    "Si queremos sacar el synset que esté relacionado solo con un determinado POStag:"
   ]
  },
  {
   "cell_type": "code",
   "execution_count": null,
   "id": "6e6ccf67",
   "metadata": {},
   "outputs": [],
   "source": [
    "wn.synsets('dog', pos=wn.VERB)"
   ]
  },
  {
   "cell_type": "markdown",
   "id": "889c9c72",
   "metadata": {},
   "source": [
    "Si queremos sacar la definición de uno de los synsets concretos:"
   ]
  },
  {
   "cell_type": "code",
   "execution_count": null,
   "id": "4850e353",
   "metadata": {},
   "outputs": [],
   "source": [
    "wn.synset('dog.n.01').definition()"
   ]
  },
  {
   "cell_type": "markdown",
   "id": "d147b72f",
   "metadata": {},
   "source": [
    "¿Cuáles con los lemas que podemos emplear para referirnos a esa acepción?"
   ]
  },
  {
   "cell_type": "code",
   "execution_count": null,
   "id": "a2b336d8",
   "metadata": {},
   "outputs": [],
   "source": [
    "wn.synset('dog.n.01').lemmas()"
   ]
  },
  {
   "cell_type": "markdown",
   "id": "b3d7f2fe",
   "metadata": {},
   "source": [
    "y si queremos sacar la cadena asociada al lema:"
   ]
  },
  {
   "cell_type": "code",
   "execution_count": null,
   "id": "1d9b9061",
   "metadata": {},
   "outputs": [],
   "source": [
    "[l.name() for l in wn.synset('dog.n.01').lemmas()]"
   ]
  },
  {
   "cell_type": "markdown",
   "id": "7c82f566",
   "metadata": {},
   "source": [
    "Supongamos que lo que se desea es obtener todos los sinónimos de un determinado lema, obtendremos una lista por cada acepción.\n",
    "\n",
    "Por ejemplo, para los synsets del siguiente lema:"
   ]
  },
  {
   "cell_type": "code",
   "execution_count": null,
   "id": "aad2e615",
   "metadata": {},
   "outputs": [],
   "source": [
    "wn.synsets('bat')"
   ]
  },
  {
   "cell_type": "markdown",
   "id": "851578b7",
   "metadata": {},
   "source": [
    "podemos preguntar por los sinónimos que tiene, y nos devolverá una lista para cada acepción:"
   ]
  },
  {
   "cell_type": "code",
   "execution_count": null,
   "id": "577e076d",
   "metadata": {},
   "outputs": [],
   "source": [
    "wn.synonyms('bat')"
   ]
  },
  {
   "cell_type": "markdown",
   "id": "0b5793a1",
   "metadata": {},
   "source": [
    "Si en la implementación del API que tengamos instalada no disponemos del método `synonyms`, podríamos obtener la lísta de sinónimos recorriendo todos los synsets, extrayendo sus lemas, y metiéndolos en un conjunto (para eliminar duplicados) del siguiente modo:"
   ]
  },
  {
   "cell_type": "code",
   "execution_count": null,
   "id": "97a460e5",
   "metadata": {},
   "outputs": [],
   "source": [
    "set([l.name() for syn in wn.synsets('bat') for l in syn.lemmas()])"
   ]
  },
  {
   "cell_type": "markdown",
   "id": "a1f994e9",
   "metadata": {},
   "source": [
    "Para obtener los hiperónimos e hipónimos usaremos los synsets."
   ]
  },
  {
   "cell_type": "code",
   "execution_count": null,
   "id": "9c008722",
   "metadata": {},
   "outputs": [],
   "source": [
    "dog = wn.synset('dog.n.01')\n",
    "dog.hypernyms()"
   ]
  },
  {
   "cell_type": "code",
   "execution_count": null,
   "id": "e3773163",
   "metadata": {},
   "outputs": [],
   "source": [
    "dog.hyponyms()"
   ]
  },
  {
   "cell_type": "markdown",
   "id": "14f3ee78",
   "metadata": {},
   "source": [
    "Y la relación de holonímia (del todo y las partes)"
   ]
  },
  {
   "cell_type": "code",
   "execution_count": null,
   "id": "82226ea2",
   "metadata": {},
   "outputs": [],
   "source": [
    "dog.member_holonyms()"
   ]
  },
  {
   "cell_type": "markdown",
   "id": "1e384a6e",
   "metadata": {},
   "source": [
    "Para obtener los antónimos en wordnet, debemos hacerlo a través de los lemas:"
   ]
  },
  {
   "cell_type": "code",
   "execution_count": null,
   "id": "a5cf2d67",
   "metadata": {},
   "outputs": [],
   "source": [
    "wn.lemma('good.a.01.good').antonyms()"
   ]
  }
 ],
 "metadata": {
  "kernelspec": {
   "display_name": "Python 3 (ipykernel)",
   "language": "python",
   "name": "python3"
  },
  "language_info": {
   "codemirror_mode": {
    "name": "ipython",
    "version": 3
   },
   "file_extension": ".py",
   "mimetype": "text/x-python",
   "name": "python",
   "nbconvert_exporter": "python",
   "pygments_lexer": "ipython3",
   "version": "3.12.1"
  }
 },
 "nbformat": 4,
 "nbformat_minor": 5
}
